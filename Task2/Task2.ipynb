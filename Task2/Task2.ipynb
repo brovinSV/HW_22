{
 "cells": [
  {
   "cell_type": "code",
   "execution_count": null,
   "id": "8ee49be2",
   "metadata": {},
   "outputs": [],
   "source": [
    "\"\"\"\n",
    "2. Вирішіть задачу: Протягом 30 днів вересня було 12 дощових,\n",
    "8 вітряних, 4 холодних, 5 дощових та вітряних, 3 дощових та\n",
    "холодних, 2 вітряних та холодних, а один день був дощовий,\n",
    "вітряний та холодний одночасно. Скільки днів у вересні була гарна\n",
    "погода?\n",
    "\"\"\""
   ]
  },
  {
   "cell_type": "code",
   "execution_count": 1,
   "id": "b9dba9e3",
   "metadata": {},
   "outputs": [],
   "source": [
    "# Загальна кількість днів\n",
    "total_days = 30"
   ]
  },
  {
   "cell_type": "code",
   "execution_count": 2,
   "id": "8bb53718",
   "metadata": {},
   "outputs": [],
   "source": [
    "rainy_days = 12 # кількість дощових днів\n",
    "windy_days = 8 # кількість вітряних днів\n",
    "cold_days = 4 # кількість холодних днів"
   ]
  },
  {
   "cell_type": "code",
   "execution_count": 8,
   "id": "c3c8763b",
   "metadata": {},
   "outputs": [],
   "source": [
    "rainy_and_windy_days = 5 # кількість дощдвих та вітряних днів\n",
    "rainy_and_cold_days = 3 # кількість дощових та холодних днів\n",
    "windy_and_cold_days = 2 # кількість вітряних та холодних днів"
   ]
  },
  {
   "cell_type": "code",
   "execution_count": 9,
   "id": "cfb5a870",
   "metadata": {},
   "outputs": [],
   "source": [
    "rainy_and_windy_and_cold_days = 1 # кількість днів одночасно дощові, вітряні та холодні"
   ]
  },
  {
   "cell_type": "code",
   "execution_count": 10,
   "id": "7c3538f5",
   "metadata": {},
   "outputs": [],
   "source": [
    "# Обчислюємо кількість днів із гарною погодою\n",
    "good_days = (total_days - rainy_days - windy_days - cold_days \n",
    "               + rainy_and_windy_days + rainy_and_cold_days + windy_and_cold_days \n",
    "               - rainy_and_windy_and_cold_days)"
   ]
  },
  {
   "cell_type": "code",
   "execution_count": 11,
   "id": "db951f42",
   "metadata": {},
   "outputs": [
    {
     "name": "stdout",
     "output_type": "stream",
     "text": [
      "Кількість днів із гарною погодою: 15\n"
     ]
    }
   ],
   "source": [
    "print(\"Кількість днів із гарною погодою:\", good_days)"
   ]
  },
  {
   "cell_type": "code",
   "execution_count": null,
   "id": "0c8933de",
   "metadata": {},
   "outputs": [],
   "source": []
  }
 ],
 "metadata": {
  "kernelspec": {
   "display_name": "Python 3",
   "language": "python",
   "name": "python3"
  },
  "language_info": {
   "codemirror_mode": {
    "name": "ipython",
    "version": 3
   },
   "file_extension": ".py",
   "mimetype": "text/x-python",
   "name": "python",
   "nbconvert_exporter": "python",
   "pygments_lexer": "ipython3",
   "version": "3.8.10"
  }
 },
 "nbformat": 4,
 "nbformat_minor": 5
}
