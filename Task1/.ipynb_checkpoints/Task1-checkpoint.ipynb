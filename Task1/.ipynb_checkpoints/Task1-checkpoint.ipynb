{
 "cells": [
  {
   "cell_type": "code",
   "execution_count": null,
   "id": "06c23e3a",
   "metadata": {},
   "outputs": [],
   "source": [
    "\"\"\"\n",
    "1. Вирішить задачу: Запідсумками іспитів з 37 студентів відмінну оцінку\n",
    "з математики мали 15 студентів, з фізики - 16, з хімії - 19, з\n",
    "математики та хімії - 9, з фізики та хімії - 6, з усьох трьох\n",
    "дисциплін - 4. Скільки студентів отримали хоча б по одній відмінній оцінці?\n",
    "\"\"\""
   ]
  },
  {
   "cell_type": "code",
   "execution_count": 1,
   "id": "3153e86c",
   "metadata": {},
   "outputs": [],
   "source": [
    "math_std = set(range(1, 16)) # Множина відмінників з математики \n",
    "physics_std = set(range(1, 17)) # Множина відмінників з фізики\n",
    "chemistry_std = set(range(1, 20)) # Множина відмінників з хімії"
   ]
  },
  {
   "cell_type": "code",
   "execution_count": 2,
   "id": "1afed540",
   "metadata": {},
   "outputs": [],
   "source": [
    "math_and_chem_std = set(range(1, 10)) # Множина відмінників з математики та хімії\n",
    "physics_and_chem_std = set(range(1, 7)) # Множина відмінників з фізики та хімії\n",
    "all_three_std = set(range(1, 5)) # Множина відмінників з усьох трьох дисциплін"
   ]
  },
  {
   "cell_type": "code",
   "execution_count": 3,
   "id": "a5ad55cd",
   "metadata": {},
   "outputs": [],
   "source": [
    "# використовуємо метод union(), який дозволяє об'єднати множину з однією\n",
    "# або більше послідовностями, що підтримують ітерування\n",
    "result_set = math_std.union(physics_std, chemistry_std)\n",
    "# використовуємо метод difference(), який дозволяє отримати елементи\n",
    "# множини, яких немає в одній або більше послідовностях,\n",
    "# які підтримують ітерування\n",
    "result_set = result_set.difference(math_and_chem_std, physics_and_chem_std, all_three_std)\n",
    "# використовуємо функцію len() для підрахунку кількості елементів у цій множині і виводимо результат\n",
    "result = len(result_set)"
   ]
  },
  {
   "cell_type": "code",
   "execution_count": 4,
   "id": "85f8827b",
   "metadata": {},
   "outputs": [
    {
     "name": "stdout",
     "output_type": "stream",
     "text": [
      "Кількість студентів, які отримали хоча б одну відмінну оцінку: 10\n"
     ]
    }
   ],
   "source": [
    "print(f\"Кількість студентів, які отримали хоча б одну відмінну оцінку: {result}\")"
   ]
  },
  {
   "cell_type": "code",
   "execution_count": null,
   "id": "e1a5d0e4",
   "metadata": {},
   "outputs": [],
   "source": []
  }
 ],
 "metadata": {
  "kernelspec": {
   "display_name": "Python 3",
   "language": "python",
   "name": "python3"
  },
  "language_info": {
   "codemirror_mode": {
    "name": "ipython",
    "version": 3
   },
   "file_extension": ".py",
   "mimetype": "text/x-python",
   "name": "python",
   "nbconvert_exporter": "python",
   "pygments_lexer": "ipython3",
   "version": "3.8.10"
  }
 },
 "nbformat": 4,
 "nbformat_minor": 5
}
